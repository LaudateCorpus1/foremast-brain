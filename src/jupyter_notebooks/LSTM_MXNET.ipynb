{
 "cells": [
  {
   "cell_type": "markdown",
   "metadata": {},
   "source": [
    "Deep Learning (MXNET) LSTM\n"
   ]
  },
  {
   "cell_type": "code",
   "execution_count": 25,
   "metadata": {},
   "outputs": [],
   "source": [
    "import numpy as np\n",
    "import pandas as pd\n",
    "import json\n",
    "from datetime import datetime\n",
    "from dateutil.parser import parse\n",
    "import sys\n",
    "sys.path.append('../')\n",
    "from mlalgms.statsmodel import calculateHistoricalParameters"
   ]
  },
  {
   "cell_type": "code",
   "execution_count": 26,
   "metadata": {},
   "outputs": [
    {
     "name": "stdout",
     "output_type": "stream",
     "text": [
      "<class 'pandas.core.frame.DataFrame'>\n",
      "(4032, 2)\n",
      "['timestamp' 'value']\n"
     ]
    }
   ],
   "source": [
    "anomaly_data = pd.read_csv(\"../../test_data/timeserials2.csv\")\n",
    "print(type(anomaly_data))\n",
    "### print size\n",
    "print(anomaly_data.shape)\n",
    "### print columns\n",
    "print(anomaly_data.columns.values)"
   ]
  },
  {
   "cell_type": "code",
   "execution_count": 27,
   "metadata": {},
   "outputs": [],
   "source": [
    "from mlalgms.statsmodel import detectAnomalies\n",
    "from utils.converterutils import addHeader"
   ]
  },
  {
   "cell_type": "code",
   "execution_count": 28,
   "metadata": {},
   "outputs": [],
   "source": [
    "\n",
    "idx = anomaly_data.timestamp.values\n",
    "anomaly_data_ds = [parse(d) for d in idx ]\n",
    "y = anomaly_data.value.values\n",
    "df = addHeader (anomaly_data_ds, y)\n"
   ]
  },
  {
   "cell_type": "code",
   "execution_count": 29,
   "metadata": {},
   "outputs": [],
   "source": [
    "from mlalgms.deeplearning import L, ctx\n",
    "from mlalgms.deeplearning import createModel, trainModel, load_and_predict,calculateUpperLowerBound\n",
    "from mlalgms.deeplearning import evaluate_accuracy,load"
   ]
  },
  {
   "cell_type": "code",
   "execution_count": 30,
   "metadata": {},
   "outputs": [
    {
     "name": "stdout",
     "output_type": "stream",
     "text": [
      "Sequential(\n",
      "  (0): LSTM(None -> 25, TNC, dropout=0.35)\n",
      "  (1): LSTM(None -> 1, TNC)\n",
      ")\n"
     ]
    }
   ],
   "source": [
    "model, trainer = createModel(ctx, 1, 25, 0.001)\n",
    "print(model)"
   ]
  },
  {
   "cell_type": "code",
   "execution_count": 31,
   "metadata": {},
   "outputs": [],
   "source": [
    "from mlalgms.evaluator import ts_train_test_split\n"
   ]
  },
  {
   "cell_type": "code",
   "execution_count": 69,
   "metadata": {},
   "outputs": [
    {
     "name": "stdout",
     "output_type": "stream",
     "text": [
      "1210\n",
      "2822\n",
      "4032\n"
     ]
    }
   ],
   "source": [
    "train_data_selected, test_data_selected  = ts_train_test_split(df, split_ratio=0.7)\n",
    "print(len(test_data_selected) )\n",
    "print(len(train_data_selected))\n",
    "print(len(df))\n",
    "\n"
   ]
  },
  {
   "cell_type": "code",
   "execution_count": 70,
   "metadata": {},
   "outputs": [
    {
     "name": "stdout",
     "output_type": "stream",
     "text": [
      "4032\n"
     ]
    }
   ],
   "source": [
    "train = train_data_selected['y'].as_matrix().astype(np.float32)\n",
    "test= test_data_selected ['y'].as_matrix().astype(np.float32)\n",
    "all = df ['y'].as_matrix().astype(np.float32)\n",
    "print(len(all))"
   ]
  },
  {
   "cell_type": "code",
   "execution_count": 71,
   "metadata": {},
   "outputs": [],
   "source": [
    "batch_size = 128\n",
    "train_loader= load(train,batch_size)\n",
    "test_loader = load(train, batch_size)"
   ]
  },
  {
   "cell_type": "code",
   "execution_count": 72,
   "metadata": {},
   "outputs": [
    {
     "name": "stdout",
     "output_type": "stream",
     "text": [
      "[0.0008844449122356625, 0.000881333548497186, 0.00087960824432388, 0.0008805356872313574, 0.0008849049322041378, 0.0008851769328074348, 0.0008674542219998091, 0.0008540460899973328, 0.0008503198840354224, 0.000845340982461652, 0.0008411531221297435, 0.0008376034000558202, 0.0008355882657823436, 0.000836718984868165, 0.00084358334029473, 0.0008498889621240898, 0.0008200977657827974, 0.0007929092732766826, 0.0007864557631799709, 0.0007789822057415933, 0.0007708602052330008, 0.0007626150440362674, 0.000753886715281861, 0.0007447936133520788, 0.0007353049779498101]\n"
     ]
    }
   ],
   "source": [
    "train_mse, test_mse= trainModel(train_loader, test_loader, model,trainer, ctx, 1,1,25,batch_size)\n",
    "    \n",
    "print(train_mse)\n",
    "\n",
    "\n",
    " #   upper = calculateThreshold(train_predicted , 2)"
   ]
  },
  {
   "cell_type": "code",
   "execution_count": 73,
   "metadata": {},
   "outputs": [
    {
     "name": "stdout",
     "output_type": "stream",
     "text": [
      "[0.0008844449122356625, 0.000881333548497186, 0.00087960824432388, 0.0008805356872313574, 0.0008849049322041378, 0.0008851769328074348, 0.0008674542219998091, 0.0008540460899973328, 0.0008503198840354224, 0.000845340982461652, 0.0008411531221297435, 0.0008376034000558202, 0.0008355882657823436, 0.000836718984868165, 0.00084358334029473, 0.0008498889621240898, 0.0008200977657827974, 0.0007929092732766826, 0.0007864557631799709, 0.0007789822057415933, 0.0007708602052330008, 0.0007626150440362674, 0.000753886715281861, 0.0007447936133520788, 0.0007353049779498101]\n"
     ]
    }
   ],
   "source": [
    "print(test_mse)"
   ]
  },
  {
   "cell_type": "code",
   "execution_count": 74,
   "metadata": {},
   "outputs": [],
   "source": [
    "%matplotlib inline\n",
    "\n",
    "import matplotlib\n",
    "import matplotlib.pyplot as plt\n",
    "from IPython.core.pylabtools import figsize\n",
    "figsize(16, 7)"
   ]
  },
  {
   "cell_type": "code",
   "execution_count": 75,
   "metadata": {},
   "outputs": [],
   "source": [
    "\n",
    "\n",
    "# Plot the training vs test mse\n",
    "def plot_errors(train_mse, test_mse):\n",
    "    epochs = range(len(train_mse))\n",
    "    figsize(16, 7)\n",
    "    plt.plot(epochs, train_mse, label='Train')\n",
    "    plt.plot(epochs, test_mse, label='Test')\n",
    "    plt.ylabel('MSE')\n",
    "    plt.xlabel('Epoch')\n",
    "    plt.legend()\n",
    "    plt.show()"
   ]
  },
  {
   "cell_type": "code",
   "execution_count": 76,
   "metadata": {},
   "outputs": [
    {
     "data": {
      "image/png": "[encoded data removed]",
      "text/plain": [
       "<Figure size 1152x504 with 1 Axes>"
      ]
     },
     "metadata": {},
     "output_type": "display_data"
    }
   ],
   "source": [
    "plot_errors(train_mse, test_mse)"
   ]
  },
  {
   "cell_type": "code",
   "execution_count": 78,
   "metadata": {},
   "outputs": [
    {
     "name": "stdout",
     "output_type": "stream",
     "text": [
      "4032\n"
     ]
    }
   ],
   "source": [
    "tall= load_and_predict(all,L, model, batch_size,1)\n",
    "\n",
    "print(len(tall))\n",
    "    "
   ]
  },
  {
   "cell_type": "code",
   "execution_count": 79,
   "metadata": {},
   "outputs": [],
   "source": [
    "upper, lower = calculateUpperLowerBound(tall , 3)"
   ]
  },
  {
   "cell_type": "code",
   "execution_count": 80,
   "metadata": {},
   "outputs": [
    {
     "name": "stdout",
     "output_type": "stream",
     "text": [
      "[5.38194843e-04 9.77956443e-05 6.36319746e-05 ... 3.56931878e-06\n",
      " 3.96603764e-06 4.02057185e-06] 0.06304955304269821\n"
     ]
    }
   ],
   "source": [
    "print(tall, upper)"
   ]
  },
  {
   "cell_type": "code",
   "execution_count": 81,
   "metadata": {},
   "outputs": [
    {
     "name": "stdout",
     "output_type": "stream",
     "text": [
      "0.06304955304269821   ,  -0.06097038540142673\n"
     ]
    }
   ],
   "source": [
    "print(upper,'  , ', lower)"
   ]
  },
  {
   "cell_type": "code",
   "execution_count": 82,
   "metadata": {},
   "outputs": [],
   "source": [
    "anomaly = list(map(lambda v: v > upper, tall))"
   ]
  },
  {
   "cell_type": "code",
   "execution_count": 83,
   "metadata": {},
   "outputs": [
    {
     "name": "stdout",
     "output_type": "stream",
     "text": [
      "4032\n"
     ]
    }
   ],
   "source": [
    "print(len(anomaly))"
   ]
  },
  {
   "cell_type": "code",
   "execution_count": 84,
   "metadata": {},
   "outputs": [
    {
     "data": {
      "image/png": "[encoded data removed]",
      "text/plain": [
       "<Figure size 1152x504 with 1 Axes>"
      ]
     },
     "metadata": {},
     "output_type": "display_data"
    }
   ],
   "source": [
    "anomaly1 = list(map(lambda v: \"red\" if v else \"green\", anomaly))\n",
    "figsize(16, 7)\n",
    "plt.scatter(list(range(len(df['y']))),df['y'], c=anomaly1)\n",
    "plt.ylabel('y')\n",
    "plt.show()"
   ]
  },
  {
   "cell_type": "code",
   "execution_count": null,
   "metadata": {},
   "outputs": [],
   "source": []
  },
  {
   "cell_type": "code",
   "execution_count": null,
   "metadata": {},
   "outputs": [],
   "source": []
  }
 ],
 "metadata": {
  "kernelspec": {
   "display_name": "Python 3",
   "language": "python",
   "name": "python3"
  },
  "language_info": {
   "codemirror_mode": {
    "name": "ipython",
    "version": 3
   },
   "file_extension": ".py",
   "mimetype": "text/x-python",
   "name": "python",
   "nbconvert_exporter": "python",
   "pygments_lexer": "ipython3",
   "version": "3.6.5"
  }
 },
 "nbformat": 4,
 "nbformat_minor": 2
}
